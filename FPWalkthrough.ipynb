{
 "cells": [
  {
   "cell_type": "markdown",
   "metadata": {},
   "source": [
    "# This notebook is a walkthrough and tutorial of floating point related topics, largely inspired (and closely following) the paper described below:\n",
    "\n",
    "Link: http://www.validlab.com/goldberg/paper.ps Summary from the paper \"Note – This document is an edited reprint of the paper What Every Computer Scientist Should Know About Floating-Point Arithmetic, by David Goldberg, published in the March, 1991 issue of Computing Surveys. Copyright 1991, Association for Computing Machinery, Inc., reprinted by permission.\"\n",
    "\n",
    "More details available from:\n",
    "http://grouper.ieee.org/groups/754/\n",
    "\n"
   ]
  },
  {
   "cell_type": "markdown",
   "metadata": {},
   "source": [
    "# The notebook organization will largely mirror the scheme from the above paper\n",
    "- Motivation\n",
    "- Rounding Errors\n",
    "- IEEE 754 Standard\n",
    "- Details (and other issues)"
   ]
  },
  {
   "cell_type": "markdown",
   "metadata": {},
   "source": [
    "# Motivation\n",
    "As implied in the title of the key reference \"What Every Computer Scientist Should Know About Floating-Point Arithmetic\" having a working understanding about this topic seems to be fundamental to essentially anyone working with computation.  Even though the details might be somewhat hidden inside the hardware and software implementations, the issues should be understood since they can manifest in various ways in practice.  This notebook attempts to extract key ideas from the reference(s) and provide some exercises to gain some familiarity with the points raised."
   ]
  },
  {
   "cell_type": "markdown",
   "metadata": {},
   "source": [
    "# Rounding Errors\n",
    "Rounding Error:\n",
    "Basic problem.  Infinite number of real numbers, finite number of bits.\n",
    "Guard digits for differences of two close real-numbers (floating point).\n",
    "\n",
    "Real number → Representable by a floating point representation (but sometimes not exactly)\n",
    "When exact, it is called a floating point number."
   ]
  },
  {
   "cell_type": "markdown",
   "metadata": {},
   "source": [
    "## Basic representation \n",
    "\n",
    "+/- d0.d1 d2 d3 d4 d(p-1) x beta^e represents the number\n",
    "\n",
    "d0+d1 beta(-1) + ... + d(p-1) beta(-(p-1)) beta^e"
   ]
  },
  {
   "cell_type": "markdown",
   "metadata": {},
   "source": [
    "### Exercise\n",
    "Show that the number of bits required to encode the above number is\n",
    "ceil(log2 (emax-emin+1)) + ceil(log2(Beta^p)) + 1"
   ]
  },
  {
   "cell_type": "markdown",
   "metadata": {},
   "source": [
    "# IEEE 754"
   ]
  },
  {
   "cell_type": "markdown",
   "metadata": {},
   "source": [
    "# Details (and other issues)"
   ]
  }
 ],
 "metadata": {
  "kernelspec": {
   "display_name": "Python 3",
   "language": "python",
   "name": "python3"
  },
  "language_info": {
   "codemirror_mode": {
    "name": "ipython",
    "version": 3
   },
   "file_extension": ".py",
   "mimetype": "text/x-python",
   "name": "python",
   "nbconvert_exporter": "python",
   "pygments_lexer": "ipython3",
   "version": "3.5.3"
  }
 },
 "nbformat": 4,
 "nbformat_minor": 2
}
