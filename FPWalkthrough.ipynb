{
 "cells": [
  {
   "cell_type": "markdown",
   "metadata": {},
   "source": [
    "# This notebook is a walkthrough and tutorial of floating point related topics, largely inspired (and closely following) the paper described below:\n",
    "\n",
    "Link: http://www.validlab.com/goldberg/paper.ps Summary from the paper \"Note – This document is an edited reprint of the paper What Every Computer Scientist Should Know About Floating-Point Arithmetic, by David Goldberg, published in the March, 1991 issue of Computing Surveys. Copyright 1991, Association for Computing Machinery, Inc., reprinted by permission.\"\n",
    "\n",
    "More details available from:\n",
    "http://grouper.ieee.org/groups/754/\n",
    "\n"
   ]
  },
  {
   "cell_type": "markdown",
   "metadata": {},
   "source": [
    "# The notebook organization will largely mirror the scheme from the above paper\n",
    "- Motivation\n",
    "- Rounding Errors\n",
    "- IEEE 754 Standard\n",
    "- Details (and other issues)"
   ]
  },
  {
   "cell_type": "markdown",
   "metadata": {},
   "source": [
    "# Motivation\n",
    "As implied in the title of the key reference \"What Every Computer Scientist Should Know About Floating-Point Arithmetic\" having a working understanding about this topic seems to be fundamental to essentially anyone working with computation.  Even though the details might be somewhat hidden inside the hardware and software implementations, the issues should be understood since they can manifest in various ways in practice.  This notebook attempts to extract key ideas from the reference(s) and provide some exercises to gain some familiarity with the points raised."
   ]
  },
  {
   "cell_type": "markdown",
   "metadata": {},
   "source": [
    "# Rounding Errors\n",
    "Rounding Error:\n",
    "Basic problem.  Infinite number of real numbers, finite number of bits.\n",
    "Guard digits for differences of two close real-numbers (floating point).\n",
    "\n",
    "Real number → Representable by a floating point representation (but sometimes not exactly)\n",
    "When exact, it is called a floating point number."
   ]
  },
  {
   "cell_type": "markdown",
   "metadata": {},
   "source": [
    "## Basic representation \n",
    "\n",
    "+/- d0.d1 d2 d3 d4 d(p-1) x beta^e represents the number\n",
    "\n",
    "d0+d1 beta(-1) + ... + d(p-1) beta(-(p-1)) beta^e"
   ]
  },
  {
   "cell_type": "markdown",
   "metadata": {},
   "source": [
    "### Exercise\n",
    "Show that the number of bits required to encode the above number is\n",
    "ceil(log2 (emax-emin+1)) + ceil(log2(Beta^p)) + 1"
   ]
  },
  {
   "cell_type": "markdown",
   "metadata": {},
   "source": [
    "### Response:\n",
    "\n"
   ]
  },
  {
   "cell_type": "markdown",
   "metadata": {},
   "source": [
    "### Solution\n",
    "\n",
    "We require that 2^N > R, where R is the real number we are trying to represent using binary\n",
    "Taking the base 2 log of both sides yields:\n",
    "N > log2(R).  If we take the ceiling of the right hand side \n",
    "(the smallest integer such that the inequality is satisfied)\n",
    "we obtain the desired result shown in the theory."
   ]
  },
  {
   "cell_type": "code",
   "execution_count": 20,
   "metadata": {},
   "outputs": [
    {
     "name": "stdout",
     "output_type": "stream",
     "text": [
      "num_bits_exponent =  4.0\n",
      "num_bits_significand =  14.0\n",
      "num_bits_sign =  1\n",
      "total_bits =  19.0\n"
     ]
    }
   ],
   "source": [
    "# Exploration code:\n",
    "# Example of bits required\n",
    "import numpy as np\n",
    "emax =  5  \n",
    "emin = -4\n",
    "beta = 10 # base10\n",
    "p = 4     # four figures\n",
    "\n",
    "#TODO:  Implement the theory into the missing python code\n",
    "num_bits_exponent = np.ceil(np.log2(emax-emin+1))\n",
    "num_bits_significand = np.ceil(np.log2(beta**p))\n",
    "num_bits_sign = 1\n",
    "total_bits = num_bits_exponent + num_bits_significand + num_bits_sign\n",
    "\n",
    "print('num_bits_exponent = ', num_bits_exponent)\n",
    "print('num_bits_significand = ', num_bits_significand)\n",
    "print('num_bits_sign = ', num_bits_sign)\n",
    "print('total_bits = ', total_bits)"
   ]
  },
  {
   "cell_type": "markdown",
   "metadata": {},
   "source": [
    "## Normalized Representation\n",
    "When the number starts with a 1, this is called \"normalized\""
   ]
  },
  {
   "cell_type": "markdown",
   "metadata": {},
   "source": [
    "### Exercise\n",
    "Show that if beta=2, p=3, emin=-1 and emax=2, there are 16 normalized numbers that can be represented"
   ]
  },
  {
   "cell_type": "markdown",
   "metadata": {},
   "source": [
    "### Response:\n"
   ]
  },
  {
   "cell_type": "markdown",
   "metadata": {},
   "source": [
    "### Solution\n",
    "p = 3:\n",
    "100\n",
    "101\n",
    "110\n",
    "111\n",
    "Each have beta(-1), beta(0), beta(1), and beta(2)  - 4 exponents\n",
    "Therefore we have 4x4 = 16 possible normalized numbers."
   ]
  },
  {
   "cell_type": "code",
   "execution_count": 21,
   "metadata": {
    "collapsed": true
   },
   "outputs": [],
   "source": [
    "# Exercise for normalized numbers\n",
    "import numpy as np"
   ]
  },
  {
   "cell_type": "markdown",
   "metadata": {},
   "source": [
    "# IEEE 754"
   ]
  },
  {
   "cell_type": "markdown",
   "metadata": {},
   "source": [
    "# Details (and other issues)"
   ]
  }
 ],
 "metadata": {
  "kernelspec": {
   "display_name": "Python 3",
   "language": "python",
   "name": "python3"
  },
  "language_info": {
   "codemirror_mode": {
    "name": "ipython",
    "version": 3
   },
   "file_extension": ".py",
   "mimetype": "text/x-python",
   "name": "python",
   "nbconvert_exporter": "python",
   "pygments_lexer": "ipython3",
   "version": "3.5.3"
  }
 },
 "nbformat": 4,
 "nbformat_minor": 2
}
